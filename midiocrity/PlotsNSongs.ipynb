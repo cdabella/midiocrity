{
 "cells": [
  {
   "cell_type": "code",
   "execution_count": 34,
   "id": "e55bbf6f",
   "metadata": {},
   "outputs": [
    {
     "name": "stdout",
     "output_type": "stream",
     "text": [
      "The autoreload extension is already loaded. To reload it, use:\n",
      "  %reload_ext autoreload\n"
     ]
    }
   ],
   "source": [
    "%load_ext autoreload\n",
    "%autoreload 2"
   ]
  },
  {
   "cell_type": "code",
   "execution_count": 82,
   "id": "948a8276",
   "metadata": {},
   "outputs": [],
   "source": [
    "from utils_plot import load_dummy_model, plot_latent, plot_latent_nolabel"
   ]
  },
  {
   "cell_type": "code",
   "execution_count": 83,
   "id": "5a6bf2a6",
   "metadata": {},
   "outputs": [],
   "source": [
    "vae = load_dummy_model()\n",
    "data0 = torch.rand(16, 256, 130, 1)\n",
    "data1 = torch.rand(16, 256, 130, 1)"
   ]
  },
  {
   "cell_type": "code",
   "execution_count": 84,
   "id": "6f59a45b",
   "metadata": {},
   "outputs": [
    {
     "data": {
      "image/png": "[encoded data removed]",
      "text/plain": [
       "<Figure size 500x500 with 1 Axes>"
      ]
     },
     "metadata": {
      "needs_background": "light"
     },
     "output_type": "display_data"
    }
   ],
   "source": [
    "plot_latent_nolabel(vae, [data0, data1] )"
   ]
  },
  {
   "cell_type": "code",
   "execution_count": null,
   "id": "6b11b85e",
   "metadata": {},
   "outputs": [],
   "source": []
  }
 ],
 "metadata": {
  "kernelspec": {
   "display_name": "Python 3",
   "language": "python",
   "name": "python3"
  },
  "language_info": {
   "codemirror_mode": {
    "name": "ipython",
    "version": 3
   },
   "file_extension": ".py",
   "mimetype": "text/x-python",
   "name": "python",
   "nbconvert_exporter": "python",
   "pygments_lexer": "ipython3",
   "version": "3.8.9"
  }
 },
 "nbformat": 4,
 "nbformat_minor": 5
}
